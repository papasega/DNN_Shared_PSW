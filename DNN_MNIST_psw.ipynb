{
 "cells": [
  {
   "cell_type": "markdown",
   "id": "3436370c",
   "metadata": {},
   "source": [
    "# Introduction en Deep Learning \n",
    "\n",
    "## <!-- TITLE --> MNIST : Simple Classification avec DNN \n",
    "<!-- DESC --> Un exemple de classification utilisant un dense neural network pour le fameux jeu de données MNIST\n",
    "Auteur : [Papa Séga WADE](https://solo.to/mathspsw)\n",
    "\n",
    "## Objectifes :\n",
    " - Reconnaitre les images manuscrites \n",
    " - Commrpendre le principe de classification avec les DNN network \n",
    " - Une implementation avec Keras \n",
    "\n",
    "\n",
    "Dans cet exemple nous allons voir comment importer un jeu (ou le jeu de données MNIST) depuis la bibliothèque Keras developpée par François Chollet chercheur chez Google et l'auteur du livre Deep Learning with Python.\n",
    "\n",
    "Ce jeu de données est composé de 60.000 images pour l'aprrentissage du modèle et 10.000 images pour le test sur les 10 labels des images manuscrites de 0 à 9.\n",
    "\n",
    "Le [MNIST dataset](http://yann.lecun.com/exdb/mnist/)\n",
    "Pour dire Mixted or Modified National Institut of Standford Technology c'est une base de données de chiffres écrit à la main. Ce jeu de données est un test stardard pour la reconnaissance d'écriture manuscrit qui est problème difficile."
   ]
  },
  {
   "cell_type": "code",
   "execution_count": null,
   "id": "fd4efd47",
   "metadata": {},
   "outputs": [],
   "source": [
    "#pip install tensorflow \n",
    "#pip install keras "
   ]
  },
  {
   "cell_type": "code",
   "execution_count": 23,
   "id": "2ff7e002",
   "metadata": {},
   "outputs": [
    {
     "name": "stdout",
     "output_type": "stream",
     "text": [
      "CPU times: user 281 ms, sys: 13.3 ms, total: 295 ms\n",
      "Wall time: 294 ms\n"
     ]
    }
   ],
   "source": [
    "%%time\n",
    "###################################\n",
    "###DNN avec TensorFlow et Keras ###\n",
    "###################################\n",
    "###1. Chargement des librairies et du jeu de données MNIST \n",
    "import tensorflow as tf \n",
    "from tensorflow.keras.datasets import mnist\n",
    "from tensorflow.keras.models import Sequential \n",
    "from tensorflow.python.keras.layers import Dense, Activation\n",
    "#from tensorflow.keras.utils import utils\n",
    "from tensorflow.keras.utils import to_categorical\n",
    " \n",
    "(X_train, Y_train), (X_test, Y_test) = mnist.load_data()"
   ]
  },
  {
   "cell_type": "code",
   "execution_count": 24,
   "id": "2129e48e",
   "metadata": {},
   "outputs": [],
   "source": [
    "####2.Preprocessing des données \n",
    "\n",
    "X_train = X_train.reshape(60000, 784)     \n",
    "X_test = X_test.reshape(10000, 784)\n",
    "X_train = X_train.astype('float32')     \n",
    "X_test = X_test.astype('float32')     \n",
    "X_train /= 255    \n",
    "X_test /= 255\n",
    "classes = 10\n",
    "Y_train = to_categorical(Y_train, classes)     \n",
    "Y_test =  to_categorical(Y_test, classes)\n"
   ]
  },
  {
   "cell_type": "code",
   "execution_count": 25,
   "id": "29fa3fb8",
   "metadata": {},
   "outputs": [],
   "source": [
    "###3. Set up parameters\n",
    "input_size = 784\n",
    "batch_size = 128   \n",
    "hidden_neurons = 600 \n",
    "epochs = 25\n"
   ]
  },
  {
   "cell_type": "code",
   "execution_count": 26,
   "id": "660a2135",
   "metadata": {},
   "outputs": [],
   "source": [
    "###4.Build the model\n",
    "model = Sequential()     \n",
    "model.add(Dense(hidden_neurons, input_dim=input_size)) \n",
    "model.add(Activation('relu'))     \n",
    "model.add(Dense(classes, input_dim=hidden_neurons)) \n",
    "model.add(Activation('softmax'))"
   ]
  },
  {
   "cell_type": "code",
   "execution_count": 27,
   "id": "8764681d",
   "metadata": {},
   "outputs": [],
   "source": [
    "# compilation de notre modèle \n",
    "model.compile(loss='categorical_crossentropy', \n",
    "    metrics=['accuracy'], optimizer='adam')"
   ]
  },
  {
   "cell_type": "code",
   "execution_count": 28,
   "id": "850375de",
   "metadata": {},
   "outputs": [
    {
     "name": "stdout",
     "output_type": "stream",
     "text": [
      "Model: \"sequential_6\"\n",
      "_________________________________________________________________\n",
      "Layer (type)                 Output Shape              Param #   \n",
      "=================================================================\n",
      "dense_12 (Dense)             (None, 600)               471000    \n",
      "_________________________________________________________________\n",
      "activation_12 (Activation)   (None, 600)               0         \n",
      "_________________________________________________________________\n",
      "dense_13 (Dense)             (None, 10)                6010      \n",
      "_________________________________________________________________\n",
      "activation_13 (Activation)   (None, 10)                0         \n",
      "=================================================================\n",
      "Total params: 477,010\n",
      "Trainable params: 477,010\n",
      "Non-trainable params: 0\n",
      "_________________________________________________________________\n"
     ]
    }
   ],
   "source": [
    "model.summary()"
   ]
  },
  {
   "cell_type": "code",
   "execution_count": 29,
   "id": "4f7e7d4a",
   "metadata": {},
   "outputs": [
    {
     "name": "stdout",
     "output_type": "stream",
     "text": [
      "Epoch 1/25\n",
      "469/469 [==============================] - 6s 12ms/step - loss: 0.4630 - accuracy: 0.8659\n",
      "Epoch 2/25\n",
      "469/469 [==============================] - 6s 12ms/step - loss: 0.1149 - accuracy: 0.9663\n",
      "Epoch 3/25\n",
      "469/469 [==============================] - 5s 11ms/step - loss: 0.0724 - accuracy: 0.9793\n",
      "Epoch 4/25\n",
      "469/469 [==============================] - 5s 11ms/step - loss: 0.0489 - accuracy: 0.9856\n",
      "Epoch 5/25\n",
      "469/469 [==============================] - 6s 13ms/step - loss: 0.0342 - accuracy: 0.9901\n",
      "Epoch 6/25\n",
      "469/469 [==============================] - 6s 13ms/step - loss: 0.0239 - accuracy: 0.9935\n",
      "Epoch 7/25\n",
      "469/469 [==============================] - 5s 11ms/step - loss: 0.0181 - accuracy: 0.9953\n",
      "Epoch 8/25\n",
      "469/469 [==============================] - 7s 15ms/step - loss: 0.0144 - accuracy: 0.9962\n",
      "Epoch 9/25\n",
      "469/469 [==============================] - 7s 14ms/step - loss: 0.0107 - accuracy: 0.9975\n",
      "Epoch 10/25\n",
      "469/469 [==============================] - 6s 13ms/step - loss: 0.0076 - accuracy: 0.9987\n",
      "Epoch 11/25\n",
      "469/469 [==============================] - 6s 12ms/step - loss: 0.0075 - accuracy: 0.9977\n",
      "Epoch 12/25\n",
      "469/469 [==============================] - 5s 11ms/step - loss: 0.0070 - accuracy: 0.9981\n",
      "Epoch 13/25\n",
      "469/469 [==============================] - 5s 11ms/step - loss: 0.0054 - accuracy: 0.9986\n",
      "Epoch 14/25\n",
      "469/469 [==============================] - 5s 11ms/step - loss: 0.0047 - accuracy: 0.9988\n",
      "Epoch 15/25\n",
      "469/469 [==============================] - 5s 11ms/step - loss: 0.0028 - accuracy: 0.9994\n",
      "Epoch 16/25\n",
      "469/469 [==============================] - 6s 12ms/step - loss: 0.0052 - accuracy: 0.9984\n",
      "Epoch 17/25\n",
      "469/469 [==============================] - 5s 11ms/step - loss: 0.0058 - accuracy: 0.9982\n",
      "Epoch 18/25\n",
      "469/469 [==============================] - 6s 12ms/step - loss: 0.0022 - accuracy: 0.9997\n",
      "Epoch 19/25\n",
      "469/469 [==============================] - 5s 11ms/step - loss: 7.8356e-04 - accuracy: 0.9999\n",
      "Epoch 20/25\n",
      "469/469 [==============================] - 5s 11ms/step - loss: 0.0062 - accuracy: 0.9981\n",
      "Epoch 21/25\n",
      "469/469 [==============================] - 5s 12ms/step - loss: 0.0054 - accuracy: 0.9982\n",
      "Epoch 22/25\n",
      "469/469 [==============================] - 5s 11ms/step - loss: 0.0037 - accuracy: 0.9989\n",
      "Epoch 23/25\n",
      "469/469 [==============================] - 6s 12ms/step - loss: 0.0016 - accuracy: 0.9997\n",
      "Epoch 24/25\n",
      "469/469 [==============================] - 5s 11ms/step - loss: 0.0053 - accuracy: 0.9981\n",
      "Epoch 25/25\n",
      "469/469 [==============================] - 5s 10ms/step - loss: 0.0036 - accuracy: 0.9990\n"
     ]
    }
   ],
   "source": [
    "history = model.fit(X_train, Y_train, \n",
    "                    batch_size=batch_size, \n",
    "                    epochs=epochs, \n",
    "                    verbose=1)"
   ]
  },
  {
   "cell_type": "code",
   "execution_count": 30,
   "id": "ed8ca75d",
   "metadata": {},
   "outputs": [
    {
     "name": "stdout",
     "output_type": "stream",
     "text": [
      "313/313 [==============================] - 1s 3ms/step - loss: 0.0872 - accuracy: 0.9817\n",
      "\n",
      "Test accuracy: 0.9817000031471252\n",
      "\n",
      "Test socre loss: 0.08723923563957214\n"
     ]
    }
   ],
   "source": [
    "###5.Test \n",
    "score = model.evaluate(X_test, Y_test, verbose=1)\n",
    "print('\\n''Test accuracy:', score[1])\n",
    "print('\\n''Test socre loss:', score[0]) \n",
    "\n",
    "#####################################################################\n",
    "#              Your Turn                                            #\n",
    "#   Modifier la fonction d'optimisation avec un learning rate 0.01  #\n",
    "#   Que constatez-vous ? comment corriger cet effet ?               #\n",
    "#                              PSW                                  #\n",
    "######################################################################"
   ]
  },
  {
   "cell_type": "markdown",
   "id": "d5099a59",
   "metadata": {},
   "source": [
    " # Your Turn                 \n",
    " \n",
    "###   Modifier la fonction d'optimisation avec un learning rate 0.01  \n",
    "\n",
    "###   Que constatez-vous ? comment corriger cet effet ?     \n",
    "\n",
    "\n",
    "# PSW                     "
   ]
  },
  {
   "cell_type": "code",
   "execution_count": null,
   "id": "b5ff15ac",
   "metadata": {},
   "outputs": [],
   "source": []
  }
 ],
 "metadata": {
  "kernelspec": {
   "display_name": "Python [conda env:pswenv-tf] *",
   "language": "python",
   "name": "conda-env-pswenv-tf-py"
  },
  "language_info": {
   "codemirror_mode": {
    "name": "ipython",
    "version": 3
   },
   "file_extension": ".py",
   "mimetype": "text/x-python",
   "name": "python",
   "nbconvert_exporter": "python",
   "pygments_lexer": "ipython3",
   "version": "3.9.0"
  }
 },
 "nbformat": 4,
 "nbformat_minor": 5
}
